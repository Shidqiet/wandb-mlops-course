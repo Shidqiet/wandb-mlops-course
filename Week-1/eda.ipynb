{
 "cells": [
  {
   "cell_type": "code",
   "execution_count": null,
   "id": "c76b4582",
   "metadata": {},
   "outputs": [],
   "source": [
    "from pathlib import Path\n",
    "\n",
    "import pandas as pd\n",
    "import skimage.io as io\n",
    "\n",
    "import wandb"
   ]
  },
  {
   "cell_type": "code",
   "execution_count": null,
   "id": "45a8c93b",
   "metadata": {},
   "outputs": [],
   "source": [
    "PROJECT_NAME = 'INTEL_IMAGE_CLASSIFICATION'\n",
    "ENTITY = '' #NOTE: fill your entity\n",
    "RAW_DATA_FOLDER = 'intel_dataset'"
   ]
  },
  {
   "cell_type": "code",
   "execution_count": null,
   "id": "b211e102",
   "metadata": {},
   "outputs": [],
   "source": [
    "def make_wandb_image(\n",
    "        img_path: str) -> wandb.Image:\n",
    "    img_array = io.imread(img_path)\n",
    "    return wandb.Image(\n",
    "                    img_array)"
   ]
  },
  {
   "cell_type": "code",
   "execution_count": null,
   "id": "ad2b6ae5",
   "metadata": {},
   "outputs": [],
   "source": [
    "def make_row(\n",
    "        img_path: str) -> list:\n",
    "    splitted_path = str(img_path).split('/')\n",
    "    split = splitted_path[1].split('_')[1]\n",
    "    fname = splitted_path[4]\n",
    "    category = splitted_path[3]\n",
    "    return [\n",
    "        make_wandb_image(img_path),\n",
    "        fname,\n",
    "        split,\n",
    "        category\n",
    "    ]"
   ]
  },
  {
   "cell_type": "code",
   "execution_count": null,
   "id": "0cdccfa2",
   "metadata": {},
   "outputs": [],
   "source": [
    "img_list = sorted(list(Path(RAW_DATA_FOLDER).rglob('*.jpg')))"
   ]
  },
  {
   "cell_type": "code",
   "execution_count": null,
   "id": "32cc08a5-dbe1-4cf8-821e-b52086ec725e",
   "metadata": {},
   "outputs": [],
   "source": [
    "df = pd.DataFrame(data=[make_row(img_path) for img_path in img_list],\n",
    "                  columns='imgs,filename,split,classes'.split(','))"
   ]
  },
  {
   "cell_type": "code",
   "execution_count": null,
   "id": "6bb3b59f-a37b-4616-84ff-f129623d029f",
   "metadata": {},
   "outputs": [],
   "source": [
    "with wandb.init(project=PROJECT_NAME, entity=ENTITY, job_type=\"EDA\") as run:\n",
    "    run.log({'raw_data': wandb.Table(dataframe=df)})\n",
    "    run.finish()"
   ]
  }
 ],
 "metadata": {
  "kernelspec": {
   "display_name": "Python 3.8.10 ('.venv': venv)",
   "language": "python",
   "name": "python3"
  },
  "language_info": {
   "codemirror_mode": {
    "name": "ipython",
    "version": 3
   },
   "file_extension": ".py",
   "mimetype": "text/x-python",
   "name": "python",
   "nbconvert_exporter": "python",
   "pygments_lexer": "ipython3",
   "version": "3.8.10"
  },
  "vscode": {
   "interpreter": {
    "hash": "c482955292ca0129365bcb183cdc6305028f5963ac8a1093cb936990f2dca754"
   }
  }
 },
 "nbformat": 4,
 "nbformat_minor": 5
}
